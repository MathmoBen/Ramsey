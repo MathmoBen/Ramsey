{
 "cells": [
  {
   "cell_type": "markdown",
   "id": "4e74d0d9",
   "metadata": {},
   "source": [
    "# R(4,5)"
   ]
  },
  {
   "cell_type": "markdown",
   "id": "bd5ce516",
   "metadata": {},
   "source": [
    "Here we obtain circulant graphs providing (bad) lower bounds for the Ramsey number R(4,5). "
   ]
  },
  {
   "cell_type": "markdown",
   "id": "89f3ecca",
   "metadata": {},
   "source": [
    "## The main functions"
   ]
  },
  {
   "cell_type": "code",
   "execution_count": 1,
   "id": "5e8e4108",
   "metadata": {},
   "outputs": [],
   "source": [
    "# The important imports\n",
    "\n",
    "import itertools\n",
    "from itertools import combinations"
   ]
  },
  {
   "cell_type": "code",
   "execution_count": 2,
   "id": "65526263",
   "metadata": {},
   "outputs": [],
   "source": [
    "# Function to check if a given input circulant graph has a particular clique size\n",
    "\n",
    "def is_clique(graph: set, vertices: list) -> bool:\n",
    "    \"\"\"\n",
    "    Check if the given vertices form a clique in the graph.\n",
    "    \"\"\"\n",
    "    for i in range(len(vertices)):\n",
    "        for j in range(i+1, len(vertices)):\n",
    "            if vertices[j] not in graph[vertices[i]]:\n",
    "                return False\n",
    "    return True"
   ]
  },
  {
   "cell_type": "code",
   "execution_count": 3,
   "id": "03fc80a6",
   "metadata": {},
   "outputs": [],
   "source": [
    "# Function that given a certain list of jumps constructs a circulat graph of that kind\n",
    "\n",
    "def create_circulant_graph(n: int, jumps: set) -> set:\n",
    "    \"\"\"\n",
    "    Create a circulant graph with n vertices and given jumps.\n",
    "    \"\"\"\n",
    "    graph = {i: set() for i in range(n)}\n",
    "    for i in range(n):\n",
    "        for jump in jumps:\n",
    "            graph[i].add((i + jump) % n)\n",
    "            graph[i].add((i - jump) % n)\n",
    "    return graph"
   ]
  },
  {
   "cell_type": "code",
   "execution_count": 4,
   "id": "c67995f7",
   "metadata": {},
   "outputs": [],
   "source": [
    "# A graph that creates the complement of a given circulant graph\n",
    "\n",
    "def create_complement_graph(n: int, original_graph: set) -> set:\n",
    "    \"\"\"\n",
    "    Create the complement of the given graph.\n",
    "    \"\"\"\n",
    "    complement = {i: set(range(n)) - {i} - original_graph[i] for i in range(n)}\n",
    "    return complement"
   ]
  },
  {
   "cell_type": "code",
   "execution_count": 5,
   "id": "e964cd28",
   "metadata": {},
   "outputs": [],
   "source": [
    "# Function that checks if a given circulant graph has a clique of a given size\n",
    "\n",
    "def has_clique(graph: set, k: int) -> bool:\n",
    "    \"\"\"\n",
    "    Check if the graph has a clique of size k.\n",
    "    \"\"\"\n",
    "    for combo in itertools.combinations(range(len(graph)), k):\n",
    "        if is_clique(graph, combo):\n",
    "            return True\n",
    "    return False"
   ]
  },
  {
   "cell_type": "code",
   "execution_count": 6,
   "id": "4d70fe2b",
   "metadata": {},
   "outputs": [],
   "source": [
    "# Finally, the main function pulling all of the above together\n",
    "\n",
    "def check_cliques(n: int, jumps: list, k1: int, k2: int) -> tuple:\n",
    "    \"\"\"\n",
    "    Check if a circulant graph has a clique of size k1 and its complement has a clique of size k2.\n",
    "    \n",
    "    :param n: Number of vertices in the graph\n",
    "    :param jumps: List of jumps that define the circulant graph\n",
    "    :param k1: Size of the clique to search for in the original graph\n",
    "    :param k2: Size of the clique to search for in the complement graph\n",
    "    :return: Tuple (bool, bool) indicating presence of cliques in original and complement graphs\n",
    "    \"\"\"\n",
    "    original_graph = create_circulant_graph(n, jumps)\n",
    "    complement_graph = create_complement_graph(n, original_graph)\n",
    "    \n",
    "    clique_in_original = has_clique(original_graph, k1)\n",
    "    clique_in_complement = has_clique(complement_graph, k2)\n",
    "    \n",
    "    return clique_in_original, clique_in_complement"
   ]
  },
  {
   "cell_type": "markdown",
   "id": "ff393848",
   "metadata": {},
   "source": [
    "## Ramsey-critical graphs"
   ]
  },
  {
   "cell_type": "code",
   "execution_count": 7,
   "id": "2cac0ca5",
   "metadata": {},
   "outputs": [
    {
     "data": {
      "text/plain": [
       "(False, True)"
      ]
     },
     "execution_count": 7,
     "metadata": {},
     "output_type": "execute_result"
    }
   ],
   "source": [
    "# Confirming that cycles don't work.\n",
    "\n",
    "n = 24\n",
    "jumps = [1]\n",
    "k1 = 4\n",
    "k2 = 5\n",
    "\n",
    "check_cliques(n, jumps, k1, k2)"
   ]
  },
  {
   "cell_type": "code",
   "execution_count": 8,
   "id": "a65d1125",
   "metadata": {},
   "outputs": [
    {
     "name": "stdout",
     "output_type": "stream",
     "text": [
      "[2, (False, True)]\n",
      "[3, (False, True)]\n",
      "[4, (False, True)]\n",
      "[5, (False, True)]\n",
      "[6, (False, True)]\n",
      "[7, (False, True)]\n",
      "[8, (False, True)]\n",
      "[9, (False, True)]\n",
      "[10, (False, True)]\n",
      "[11, (False, True)]\n",
      "[12, (False, True)]\n"
     ]
    }
   ],
   "source": [
    "# One extra jump\n",
    "\n",
    "for i in range(2,13):\n",
    "    jumps = [1,i]\n",
    "    print([i,check_cliques(n, jumps, k1, k2)])"
   ]
  },
  {
   "cell_type": "code",
   "execution_count": 9,
   "id": "f1a0f76b",
   "metadata": {},
   "outputs": [],
   "source": [
    "# Two jumps\n",
    "\n",
    "comb = itertools.combinations(range(2,13),2)\n",
    "\n",
    "for i in comb:\n",
    "    jumps = [1] + list(i)\n",
    "    cliques, cocliques = check_cliques(n, jumps, k1, k2)\n",
    "    if (cliques, cocliques) == (False, False):\n",
    "        print(jumps)"
   ]
  },
  {
   "cell_type": "code",
   "execution_count": 10,
   "id": "b65c7008",
   "metadata": {},
   "outputs": [],
   "source": [
    "# Three jumps\n",
    "\n",
    "comb = itertools.combinations(range(2,13),3)\n",
    "\n",
    "for i in comb:\n",
    "    jumps = [1] + list(i)\n",
    "    cliques, cocliques = check_cliques(n, jumps, k1, k2)\n",
    "    if (cliques, cocliques) == (False, False):\n",
    "        print(jumps)           "
   ]
  },
  {
   "cell_type": "code",
   "execution_count": 11,
   "id": "51972970",
   "metadata": {},
   "outputs": [
    {
     "name": "stdout",
     "output_type": "stream",
     "text": [
      "[1, 2, 4, 8, 9]\n"
     ]
    }
   ],
   "source": [
    "# Four jumps\n",
    "\n",
    "comb = itertools.combinations(range(2,13),4)\n",
    "\n",
    "for i in comb:\n",
    "    jumps = [1] + list(i)\n",
    "    cliques, cocliques = check_cliques(n, jumps, k1, k2)\n",
    "    if (cliques, cocliques) == (False, False):\n",
    "        print(jumps)"
   ]
  },
  {
   "cell_type": "code",
   "execution_count": null,
   "id": "6da34298",
   "metadata": {},
   "outputs": [],
   "source": [
    " "
   ]
  }
 ],
 "metadata": {
  "kernelspec": {
   "display_name": "Python 3 (ipykernel)",
   "language": "python",
   "name": "python3"
  },
  "language_info": {
   "codemirror_mode": {
    "name": "ipython",
    "version": 3
   },
   "file_extension": ".py",
   "mimetype": "text/x-python",
   "name": "python",
   "nbconvert_exporter": "python",
   "pygments_lexer": "ipython3",
   "version": "3.11.3"
  }
 },
 "nbformat": 4,
 "nbformat_minor": 5
}
