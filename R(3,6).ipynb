{
 "cells": [
  {
   "cell_type": "markdown",
   "id": "4ae8a30f",
   "metadata": {},
   "source": [
    "# R(3,6)"
   ]
  },
  {
   "cell_type": "markdown",
   "id": "912d7a42",
   "metadata": {},
   "source": [
    "Here we investigate circulant graphs and their relation to the Ramsey number R(3,6)."
   ]
  },
  {
   "cell_type": "markdown",
   "id": "4ac3ee14",
   "metadata": {},
   "source": [
    "## The main functions"
   ]
  },
  {
   "cell_type": "code",
   "execution_count": 2,
   "id": "f4be12d0",
   "metadata": {},
   "outputs": [],
   "source": [
    "# The important imports\n",
    "\n",
    "import itertools"
   ]
  },
  {
   "cell_type": "code",
   "execution_count": 3,
   "id": "8228a80b",
   "metadata": {},
   "outputs": [],
   "source": [
    "# Function to check if a given input circulant graph has a particular clique size\n",
    "\n",
    "def is_clique(graph: set, vertices: list) -> bool:\n",
    "    \"\"\"\n",
    "    Check if the given vertices form a clique in the graph.\n",
    "    \"\"\"\n",
    "    for i in range(len(vertices)):\n",
    "        for j in range(i+1, len(vertices)):\n",
    "            if vertices[j] not in graph[vertices[i]]:\n",
    "                return False\n",
    "    return True"
   ]
  },
  {
   "cell_type": "code",
   "execution_count": 4,
   "id": "226451a8",
   "metadata": {},
   "outputs": [],
   "source": [
    "# Function that given a certain list of jumps constructs a circulat graph of that kind\n",
    "\n",
    "def create_circulant_graph(n: int, jumps: set) -> set:\n",
    "    \"\"\"\n",
    "    Create a circulant graph with n vertices and given jumps.\n",
    "    \"\"\"\n",
    "    graph = {i: set() for i in range(n)}\n",
    "    for i in range(n):\n",
    "        for jump in jumps:\n",
    "            graph[i].add((i + jump) % n)\n",
    "            graph[i].add((i - jump) % n)\n",
    "    return graph"
   ]
  },
  {
   "cell_type": "code",
   "execution_count": 5,
   "id": "a96f58fe",
   "metadata": {},
   "outputs": [],
   "source": [
    "# A graph that creates the complement of a given circulant graph\n",
    "\n",
    "def create_complement_graph(n: int, original_graph: set) -> set:\n",
    "    \"\"\"\n",
    "    Create the complement of the given graph.\n",
    "    \"\"\"\n",
    "    complement = {i: set(range(n)) - {i} - original_graph[i] for i in range(n)}\n",
    "    return complement"
   ]
  },
  {
   "cell_type": "code",
   "execution_count": 6,
   "id": "fb17426f",
   "metadata": {},
   "outputs": [],
   "source": [
    "# Function that checks if a given circulant graph has a clique of a given size\n",
    "\n",
    "def has_clique(graph: set, k: int) -> bool:\n",
    "    \"\"\"\n",
    "    Check if the graph has a clique of size k.\n",
    "    \"\"\"\n",
    "    for combo in itertools.combinations(range(len(graph)), k):\n",
    "        if is_clique(graph, combo):\n",
    "            return True\n",
    "    return False"
   ]
  },
  {
   "cell_type": "code",
   "execution_count": 7,
   "id": "214ac550",
   "metadata": {},
   "outputs": [],
   "source": [
    "# Finally, the main function pulling all of the above together\n",
    "\n",
    "def check_cliques(n: int, jumps: list, k1: int, k2: int) -> tuple:\n",
    "    \"\"\"\n",
    "    Check if a circulant graph has a clique of size k1 and its complement has a clique of size k2.\n",
    "    \n",
    "    :param n: Number of vertices in the graph\n",
    "    :param jumps: List of jumps that define the circulant graph\n",
    "    :param k1: Size of the clique to search for in the original graph\n",
    "    :param k2: Size of the clique to search for in the complement graph\n",
    "    :return: Tuple (bool, bool) indicating presence of cliques in original and complement graphs\n",
    "    \"\"\"\n",
    "    original_graph = create_circulant_graph(n, jumps)\n",
    "    complement_graph = create_complement_graph(n, original_graph)\n",
    "    \n",
    "    clique_in_original = has_clique(original_graph, k1)\n",
    "    clique_in_complement = has_clique(complement_graph, k2)\n",
    "    \n",
    "    return clique_in_original, clique_in_complement"
   ]
  },
  {
   "cell_type": "markdown",
   "id": "d0d9b9e3",
   "metadata": {},
   "source": [
    "# Attempts at constructions"
   ]
  },
  {
   "cell_type": "code",
   "execution_count": 8,
   "id": "b3bc4402",
   "metadata": {},
   "outputs": [],
   "source": [
    "# 1 jump\n",
    "\n",
    "for i in range(2,9):\n",
    "    jumps = [1,i]\n",
    "    a, b, = check_cliques(17, jumps, 3, 6)\n",
    "    if (a,b) == (False, False):\n",
    "        print([i])"
   ]
  },
  {
   "cell_type": "code",
   "execution_count": 9,
   "id": "0fdbf863",
   "metadata": {},
   "outputs": [],
   "source": [
    "# 2 jumps\n",
    "\n",
    "for i in range(2,7):\n",
    "    for j in range(i+2,9):\n",
    "        jumps = [1,i,j]\n",
    "        a, b, = check_cliques(17, jumps, 3, 6)\n",
    "        if (a,b) == (False, False):\n",
    "            print([1,i,j])"
   ]
  },
  {
   "cell_type": "code",
   "execution_count": 10,
   "id": "87950c95",
   "metadata": {},
   "outputs": [],
   "source": [
    "# 3 jumps\n",
    "\n",
    "for i in range(2,5):\n",
    "    for j in range(i+2,7):\n",
    "        for k in range(j+2,9):\n",
    "            jumps = [1,i,j,k]\n",
    "            a, b, = check_cliques(17, jumps, 3, 6)\n",
    "            if (a,b) == (False, False):\n",
    "                print([1,i,j,k])"
   ]
  },
  {
   "cell_type": "markdown",
   "id": "34e5e436",
   "metadata": {},
   "source": [
    "## Non-Ransey-critical graphs"
   ]
  },
  {
   "cell_type": "markdown",
   "id": "421906a7",
   "metadata": {},
   "source": [
    "The above shows that there are no circulant Ramsey critical graphs for R(3,6) but are there smaller graphs that at least provide a lower bound?"
   ]
  },
  {
   "cell_type": "code",
   "execution_count": 11,
   "id": "dcce6ae9",
   "metadata": {},
   "outputs": [],
   "source": [
    "# 1 jump\n",
    "\n",
    "for i in range(2,9):\n",
    "    jumps = [1,i]\n",
    "    a, b, = check_cliques(16, jumps, 3, 6)\n",
    "    if (a,b) == (False, False):\n",
    "        print([i])"
   ]
  },
  {
   "cell_type": "code",
   "execution_count": 12,
   "id": "cd5961f3",
   "metadata": {},
   "outputs": [
    {
     "name": "stdout",
     "output_type": "stream",
     "text": [
      "[1, 3, 8]\n",
      "[1, 5, 8]\n"
     ]
    }
   ],
   "source": [
    "# 2 jumps\n",
    "\n",
    "for i in range(2,7):\n",
    "    for j in range(i+2,9):\n",
    "        jumps = [1,i,j]\n",
    "        a, b, = check_cliques(16, jumps, 3, 6)\n",
    "        if (a,b) == (False, False):\n",
    "            print([1,i,j])"
   ]
  },
  {
   "cell_type": "markdown",
   "id": "656d2488",
   "metadata": {},
   "source": [
    "Further investigation is required to heck if wither of these graphs could have an additional vertex appended to them to produce a Ramsey-critical graph. "
   ]
  }
 ],
 "metadata": {
  "kernelspec": {
   "display_name": "Python 3 (ipykernel)",
   "language": "python",
   "name": "python3"
  },
  "language_info": {
   "codemirror_mode": {
    "name": "ipython",
    "version": 3
   },
   "file_extension": ".py",
   "mimetype": "text/x-python",
   "name": "python",
   "nbconvert_exporter": "python",
   "pygments_lexer": "ipython3",
   "version": "3.11.3"
  }
 },
 "nbformat": 4,
 "nbformat_minor": 5
}
