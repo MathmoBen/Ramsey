{
 "cells": [
  {
   "cell_type": "markdown",
   "id": "9902ae3a",
   "metadata": {},
   "source": [
    "# Circulant graphs"
   ]
  },
  {
   "cell_type": "markdown",
   "id": "9292657f",
   "metadata": {},
   "source": [
    "Here we use some code to investigate circulant graphs for certain Ramsey properties."
   ]
  },
  {
   "cell_type": "markdown",
   "id": "04b7dc7b",
   "metadata": {},
   "source": [
    "# The main functions"
   ]
  },
  {
   "cell_type": "code",
   "execution_count": 1,
   "id": "4217168c",
   "metadata": {},
   "outputs": [],
   "source": [
    "# An important import\n",
    "\n",
    "import itertools"
   ]
  },
  {
   "cell_type": "code",
   "execution_count": 2,
   "id": "a924416e",
   "metadata": {},
   "outputs": [],
   "source": [
    "# Function to check if a given input circulant graph has a particular clique size\n",
    "\n",
    "def is_clique(graph, vertices):\n",
    "    \"\"\"\n",
    "    Check if the given vertices form a clique in the graph.\n",
    "    \"\"\"\n",
    "    for i in range(len(vertices)):\n",
    "        for j in range(i+1, len(vertices)):\n",
    "            if vertices[j] not in graph[vertices[i]]:\n",
    "                return False\n",
    "    return True"
   ]
  },
  {
   "cell_type": "code",
   "execution_count": 3,
   "id": "b8702cba",
   "metadata": {},
   "outputs": [],
   "source": [
    "# Function that given a certain list of jumps constructs a circulat graph of that kind\n",
    "\n",
    "def create_circulant_graph(n, jumps):\n",
    "    \"\"\"\n",
    "    Create a circulant graph with n vertices and given jumps.\n",
    "    \"\"\"\n",
    "    graph = {i: set() for i in range(n)}\n",
    "    for i in range(n):\n",
    "        for jump in jumps:\n",
    "            graph[i].add((i + jump) % n)\n",
    "            graph[i].add((i - jump) % n)\n",
    "    return graph"
   ]
  },
  {
   "cell_type": "code",
   "execution_count": 4,
   "id": "12a3d941",
   "metadata": {},
   "outputs": [],
   "source": [
    "# A graph that creates the complement of a given circulant graph\n",
    "\n",
    "def create_complement_graph(n, original_graph):\n",
    "    \"\"\"\n",
    "    Create the complement of the given graph.\n",
    "    \"\"\"\n",
    "    complement = {i: set(range(n)) - {i} - original_graph[i] for i in range(n)}\n",
    "    return complement"
   ]
  },
  {
   "cell_type": "code",
   "execution_count": 5,
   "id": "c5c1855a",
   "metadata": {},
   "outputs": [],
   "source": [
    "# Function that checks if a given circulant graph has a clique of a given size\n",
    "\n",
    "def has_clique(graph, k):\n",
    "    \"\"\"Check if the graph has a clique of size k.\"\"\"\n",
    "    for combo in itertools.combinations(range(len(graph)), k):\n",
    "        if is_clique(graph, combo):\n",
    "            return True\n",
    "    return False"
   ]
  },
  {
   "cell_type": "code",
   "execution_count": 6,
   "id": "1197ee60",
   "metadata": {},
   "outputs": [],
   "source": [
    "# Finally, the main function pulling all of the above together\n",
    "\n",
    "def check_cliques(n, jumps, k1, k2):\n",
    "    \"\"\"\n",
    "    Check if a circulant graph has a clique of size k1 and its complement has a clique of size k2.\n",
    "    \n",
    "    :param n: Number of vertices in the graph\n",
    "    :param jumps: List of jumps that define the circulant graph\n",
    "    :param k1: Size of the clique to search for in the original graph\n",
    "    :param k2: Size of the clique to search for in the complement graph\n",
    "    :return: Tuple (bool, bool) indicating presence of cliques in original and complement graphs\n",
    "    \"\"\"\n",
    "    original_graph = create_circulant_graph(n, jumps)\n",
    "    complement_graph = create_complement_graph(n, original_graph)\n",
    "    \n",
    "    clique_in_original = has_clique(original_graph, k1)\n",
    "    clique_in_complement = has_clique(complement_graph, k2)\n",
    "    \n",
    "    return clique_in_original, clique_in_complement"
   ]
  },
  {
   "cell_type": "markdown",
   "id": "45724199",
   "metadata": {},
   "source": [
    "## Examples"
   ]
  },
  {
   "cell_type": "code",
   "execution_count": null,
   "id": "84a04f92",
   "metadata": {},
   "outputs": [],
   "source": [
    "# The 5-cycle for R(3,3)\n",
    "\n",
    "n = 5\n",
    "jumps = [1]\n",
    "k1 = k2 = 3\n",
    "\n",
    "original_result, complement_result = check_cliques(n, jumps, k1, k2)\n",
    "\n",
    "print(f\"Circulant graph C({n}, {jumps}):\")\n",
    "print(f\"  Has a clique of size {k1}: {original_result}\")\n",
    "print(f\"  Its complement has a clique of size {k2}: {complement_result}\")"
   ]
  },
  {
   "cell_type": "code",
   "execution_count": null,
   "id": "c10c8abf",
   "metadata": {},
   "outputs": [],
   "source": [
    "# A certain graph for R(3,4)\n",
    "\n",
    "n=8\n",
    "jumps = [1, 4]\n",
    "k1 = 3\n",
    "k2 = 4\n",
    "\n",
    "original_result, complement_result = check_cliques(n, jumps, k1, k2)\n",
    "\n",
    "print(f\"Circulant graph C({n}, {jumps}):\")\n",
    "print(f\"  Has a clique of size {k1}: {original_result}\")\n",
    "print(f\"  Its complement has a clique of size {k2}: {complement_result}\")"
   ]
  },
  {
   "cell_type": "code",
   "execution_count": null,
   "id": "01c95d19",
   "metadata": {},
   "outputs": [],
   "source": [
    "# Paley graph on 17 vertices for R(4,4)\n",
    "\n",
    "n = 17\n",
    "jumps = [1, 2, 4, 8]\n",
    "k1 = 4\n",
    "k2 = 4\n",
    "\n",
    "original_result, complement_result = check_cliques(n, jumps, k1, k2)\n",
    "\n",
    "print(f\"Circulant graph C({n}, {jumps}):\")\n",
    "print(f\"  Has a clique of size {k1}: {original_result}\")\n",
    "print(f\"  Its complement has a clique of size {k2}: {complement_result}\")"
   ]
  },
  {
   "cell_type": "code",
   "execution_count": null,
   "id": "e4234287",
   "metadata": {},
   "outputs": [],
   "source": [
    "# For comparison other graphs on 17 vertices that don't work\n",
    "\n",
    "n=17\n",
    "jumps = [1, 2, 4, 6, 7]\n",
    "k1 = 4\n",
    "k2 = 4\n",
    "\n",
    "original_result, complement_result = check_cliques(n, jumps, k1, k2)\n",
    "\n",
    "print(f\"Circulant graph C({n}, {jumps}):\")\n",
    "print(f\"  Has a clique of size {k1}: {original_result}\")\n",
    "print(f\"  Its complement has a clique of size {k2}: {complement_result}\")"
   ]
  },
  {
   "cell_type": "code",
   "execution_count": null,
   "id": "f296212f",
   "metadata": {},
   "outputs": [],
   "source": [
    "# R(3,7)\n",
    "\n",
    "n = 22\n",
    "jumps = [1, 4, 7, 11]\n",
    "k1 = 3\n",
    "k2 = 7\n",
    "\n",
    "original_result, complement_result = check_cliques(n, jumps, k1, k2)\n",
    "\n",
    "print(f\"Circulant graph C({n}, {jumps}):\")\n",
    "print(f\"  Has a clique of size {k1}: {original_result}\")\n",
    "print(f\"  Its complement has a clique of size {k2}: {complement_result}\")"
   ]
  },
  {
   "cell_type": "code",
   "execution_count": null,
   "id": "8bf524fb",
   "metadata": {},
   "outputs": [],
   "source": [
    "# A circulant Ramsey-critical graph for R(4,5)!!!\n",
    "\n",
    "n = 24  # number of vertices\n",
    "jumps = [1, 2, 4, 8, 9]  # jumps for the circulant graph\n",
    "k1 = 4  # size of clique to search for in original graph\n",
    "k2 = 5  # size of clique to search for in complement graph\n",
    "\n",
    "original_result, complement_result = check_cliques(n, jumps, k1, k2)\n",
    "\n",
    "print(f\"Circulant graph C({n}, {jumps}):\")\n",
    "print(f\"  Has a clique of size {k1}: {original_result}\")\n",
    "print(f\"  Its complement has a clique of size {k2}: {complement_result}\")"
   ]
  },
  {
   "cell_type": "code",
   "execution_count": null,
   "id": "c58bc239",
   "metadata": {},
   "outputs": [],
   "source": [
    "# There appear to be no circulant examples for R(3, 7)\n",
    "\n",
    "n = 22  # number of vertices\n",
    "jumps = [1, 3, 5, 9]  # jumps for the circulant graph\n",
    "k1 = 3  # size of clique to search for in original graph\n",
    "k2 = 7  # size of clique to search for in complement graph\n",
    "\n",
    "original_result, complement_result = check_cliques(n, jumps, k1, k2)\n",
    "\n",
    "print(f\"Circulant graph C({n}, {jumps}):\")\n",
    "print(f\"  Has a clique of size {k1}: {original_result}\")\n",
    "print(f\"  Its complement has a clique of size {k2}: {complement_result}\")"
   ]
  },
  {
   "cell_type": "code",
   "execution_count": null,
   "id": "35ccf1a8",
   "metadata": {},
   "outputs": [],
   "source": [
    "# There also appear to be none for R(3, 8)\n",
    "\n",
    "n = 27  # number of vertices\n",
    "jumps = [1, 5, 7, 13]  # jumps for the circulant graph\n",
    "k1 = 3  # size of clique to search for in original graph\n",
    "k2 = 8  # size of clique to search for in complement graph\n",
    "\n",
    "original_result, complement_result = check_cliques(n, jumps, k1, k2)\n",
    "\n",
    "print(f\"Circulant graph C({n}, {jumps}):\")\n",
    "print(f\"  Has a clique of size {k1}: {original_result}\")\n",
    "print(f\"  Its complement has a clique of size {k2}: {complement_result}\")"
   ]
  },
  {
   "cell_type": "code",
   "execution_count": null,
   "id": "5e8a5e38",
   "metadata": {},
   "outputs": [],
   "source": [
    "n = 35  # number of vertices\n",
    "jumps = [1, 2, 4, 8, 11]  # jumps for the circulant graph\n",
    "k1 = 3  # size of clique to search for in original graph\n",
    "k2 = 9  # size of clique to search for in complement graph\n",
    "\n",
    "original_result, complement_result = check_cliques(n, jumps, k1, k2)\n",
    "\n",
    "print(f\"Circulant graph C({n}, {jumps}):\")\n",
    "print(f\"  Has a clique of size {k1}: {original_result}\")\n",
    "print(f\"  Its complement has a clique of size {k2}: {complement_result}\")"
   ]
  },
  {
   "cell_type": "code",
   "execution_count": null,
   "id": "fc24cd3c",
   "metadata": {},
   "outputs": [],
   "source": [
    "# A circulant grapg for R(3,5) :)\n",
    "\n",
    "n = 13  # number of vertices\n",
    "jumps = [1, 5]  # jumps for the circulant graph\n",
    "k1 = 3  # size of clique to search for in original graph\n",
    "k2 = 5  # size of clique to search for in complement graph\n",
    "\n",
    "original_result, complement_result = check_cliques(n, jumps, k1, k2)\n",
    "\n",
    "print(f\"Circulant graph C({n}, {jumps}):\")\n",
    "print(f\"  Has a clique of size {k1}: {original_result}\")\n",
    "print(f\"  Its complement has a clique of size {k2}: {complement_result}\")"
   ]
  },
  {
   "cell_type": "code",
   "execution_count": 56,
   "id": "38c8b647",
   "metadata": {},
   "outputs": [
    {
     "name": "stdout",
     "output_type": "stream",
     "text": [
      "Circulant graph C(27, [1, 3, 5, 7, 13]):\n",
      "  Has a clique of size 3: True\n",
      "  Its complement has a clique of size 8: False\n"
     ]
    }
   ],
   "source": [
    "# A circulant graph that's close to R(3,8)\n",
    "\n",
    "n = 27  # number of vertices\n",
    "jumps = [1, 3, 5, 7, 13]  # jumps for the circulant graph\n",
    "k1 = 3  # size of clique to search for in original graph\n",
    "k2 = 8  # size of clique to search for in complement graph\n",
    "\n",
    "original_result, complement_result = check_cliques(n, jumps, k1, k2)\n",
    "\n",
    "print(f\"Circulant graph C({n}, {jumps}):\")\n",
    "print(f\"  Has a clique of size {k1}: {original_result}\")\n",
    "print(f\"  Its complement has a clique of size {k2}: {complement_result}\")"
   ]
  },
  {
   "cell_type": "markdown",
   "id": "5649d0d2",
   "metadata": {},
   "source": [
    "## R(3,6) - badly behaved?"
   ]
  },
  {
   "cell_type": "code",
   "execution_count": null,
   "id": "19acd2e7",
   "metadata": {},
   "outputs": [],
   "source": [
    "# just 2 jumps\n",
    "\n",
    "for i in range(2,9):\n",
    "    \"\"\"\n",
    "    checks circulant graphs with a pair of jumps\n",
    "    \"\"\"\n",
    "    jumps = [1,i]\n",
    "    cliques, cocliques = check_cliques(17, jumps, 3, 6)\n",
    "    print([jumps, cliques, cocliques])"
   ]
  },
  {
   "cell_type": "code",
   "execution_count": null,
   "id": "f46b9cd5",
   "metadata": {},
   "outputs": [],
   "source": [
    "# 3 jumps\n",
    "\n",
    "comb = itertools.combinations(range(2,9),2)\n",
    "\n",
    "for i in comb:\n",
    "    \"\"\"\n",
    "    checks circulant graphs with 3 jumps\n",
    "    \"\"\"\n",
    "    jumps = [1] + [j for j in i]\n",
    "    cliques, cocliques = check_cliques(17, jumps, 3, 6)\n",
    "    print([jumps, cliques, cocliques])"
   ]
  },
  {
   "cell_type": "markdown",
   "id": "079a385e",
   "metadata": {},
   "source": [
    "## R(3, 7) - badly behaved?"
   ]
  },
  {
   "cell_type": "code",
   "execution_count": 57,
   "id": "a273938c",
   "metadata": {},
   "outputs": [
    {
     "name": "stdout",
     "output_type": "stream",
     "text": [
      "[[1, 2], True, True]\n",
      "[[1, 3], False, True]\n",
      "[[1, 4], False, True]\n",
      "[[1, 5], False, True]\n",
      "[[1, 6], False, True]\n",
      "[[1, 7], False, True]\n",
      "[[1, 8], False, True]\n",
      "[[1, 9], False, True]\n",
      "[[1, 10], False, True]\n",
      "[[1, 11], False, True]\n"
     ]
    }
   ],
   "source": [
    "# just 2 jumps\n",
    "\n",
    "for i in range(2,12):\n",
    "    \"\"\"\n",
    "    checks circulant graphs with a pair of jumps\n",
    "    \"\"\"\n",
    "    jumps = [1,i]\n",
    "    cliques, cocliques = check_cliques(22, jumps, 3, 7)\n",
    "    print([jumps, cliques, cocliques])"
   ]
  },
  {
   "cell_type": "code",
   "execution_count": 58,
   "id": "79053c47",
   "metadata": {},
   "outputs": [
    {
     "name": "stdout",
     "output_type": "stream",
     "text": [
      "[[1, 2, 3], True, False]\n",
      "[[1, 2, 4], True, False]\n",
      "[[1, 2, 5], True, True]\n",
      "[[1, 2, 6], True, False]\n",
      "[[1, 2, 7], True, False]\n",
      "[[1, 2, 8], True, True]\n",
      "[[1, 2, 9], True, False]\n",
      "[[1, 2, 10], True, False]\n",
      "[[1, 2, 11], True, True]\n",
      "[[1, 3, 4], True, False]\n",
      "[[1, 3, 5], False, True]\n",
      "[[1, 3, 6], True, False]\n",
      "[[1, 3, 7], False, True]\n",
      "[[1, 3, 8], False, True]\n",
      "[[1, 3, 9], False, True]\n",
      "[[1, 3, 10], False, True]\n",
      "[[1, 3, 11], False, True]\n",
      "[[1, 4, 5], True, False]\n",
      "[[1, 4, 6], False, True]\n",
      "[[1, 4, 7], False, True]\n",
      "[[1, 4, 8], True, False]\n",
      "[[1, 4, 9], True, True]\n",
      "[[1, 4, 10], False, True]\n",
      "[[1, 4, 11], False, True]\n",
      "[[1, 5, 6], True, False]\n",
      "[[1, 5, 7], False, True]\n",
      "[[1, 5, 8], False, True]\n",
      "[[1, 5, 9], False, True]\n",
      "[[1, 5, 10], True, False]\n",
      "[[1, 5, 11], False, True]\n",
      "[[1, 6, 7], True, False]\n",
      "[[1, 6, 8], True, False]\n",
      "[[1, 6, 9], False, True]\n",
      "[[1, 6, 10], True, False]\n",
      "[[1, 6, 11], False, True]\n",
      "[[1, 7, 8], True, False]\n",
      "[[1, 7, 9], False, True]\n",
      "[[1, 7, 10], False, True]\n",
      "[[1, 7, 11], False, True]\n",
      "[[1, 8, 9], True, False]\n",
      "[[1, 8, 10], False, True]\n",
      "[[1, 8, 11], False, True]\n",
      "[[1, 9, 10], True, False]\n",
      "[[1, 9, 11], False, True]\n",
      "[[1, 10, 11], True, False]\n"
     ]
    }
   ],
   "source": [
    "# 3 jumps\n",
    "\n",
    "comb = itertools.combinations(range(2,12),2)\n",
    "\n",
    "for i in comb:\n",
    "    \"\"\"\n",
    "    checks circulant graphs with 3 jumps\n",
    "    \"\"\"\n",
    "    jumps = [1] + [j for j in i]\n",
    "    cliques, cocliques = check_cliques(22, jumps, 3, 7)\n",
    "    print([jumps, cliques, cocliques])"
   ]
  },
  {
   "cell_type": "code",
   "execution_count": 59,
   "id": "c07c3ead",
   "metadata": {},
   "outputs": [],
   "source": [
    "# 4 jumps\n",
    "\n",
    "comb = itertools.combinations(range(2,12),3)\n",
    "\n",
    "for i in comb:\n",
    "    \"\"\"\n",
    "    checks circulant graphs with 3 jumps\n",
    "    \"\"\"\n",
    "    jumps = [1] + [j for j in i]\n",
    "    cliques, cocliques = check_cliques(22, jumps, 3, 7)\n",
    "    if (cliques, cocliques) == (False, False):\n",
    "        print(jumps)"
   ]
  },
  {
   "cell_type": "code",
   "execution_count": 60,
   "id": "db069891",
   "metadata": {},
   "outputs": [],
   "source": [
    "# 5 jumps\n",
    "\n",
    "comb = itertools.combinations(range(2,12),5)\n",
    "\n",
    "for i in comb:\n",
    "    \"\"\"\n",
    "    checks circulant graphs with 3 jumps\n",
    "    \"\"\"\n",
    "    jumps = [1] + [j for j in i]\n",
    "    cliques, cocliques = check_cliques(22, jumps, 3, 7)\n",
    "    if (cliques, cocliques) == (False, False):\n",
    "        print(jumps)"
   ]
  },
  {
   "cell_type": "markdown",
   "id": "da3c6dc0",
   "metadata": {},
   "source": [
    "The above attempts to construct an example on 22 verts makes us look for a example on 21 vertices so we can hopefully extend it."
   ]
  },
  {
   "cell_type": "code",
   "execution_count": 61,
   "id": "1215e61c",
   "metadata": {},
   "outputs": [
    {
     "name": "stdout",
     "output_type": "stream",
     "text": [
      "[[1, 3], False, True]\n",
      "[[1, 4], False, True]\n",
      "[[1, 5], False, True]\n",
      "[[1, 6], False, True]\n",
      "[[1, 7], True, True]\n",
      "[[1, 8], False, True]\n",
      "[[1, 9], False, True]\n",
      "[[1, 10], True, True]\n"
     ]
    }
   ],
   "source": [
    "# just 2 jumps\n",
    "\n",
    "for i in range(3,11):\n",
    "    \"\"\"\n",
    "    checks circulant graphs with a pair of jumps\n",
    "    \"\"\"\n",
    "    jumps = [1,i]\n",
    "    cliques, cocliques = check_cliques(21, jumps, 3, 7)\n",
    "    print([jumps, cliques, cocliques])"
   ]
  },
  {
   "cell_type": "code",
   "execution_count": 63,
   "id": "67a54757",
   "metadata": {},
   "outputs": [
    {
     "name": "stdout",
     "output_type": "stream",
     "text": [
      "[1, 3, 8]\n",
      "[1, 4, 6]\n",
      "[1, 5, 9]\n"
     ]
    }
   ],
   "source": [
    "# 3 jumps\n",
    "\n",
    "comb = itertools.combinations(range(3,11),2)\n",
    "\n",
    "for i in comb:\n",
    "    \"\"\"\n",
    "    checks circulant graphs with 3 jumps\n",
    "    \"\"\"\n",
    "    jumps = [1] + [j for j in i]\n",
    "    cliques, cocliques = check_cliques(21, jumps, 3, 7)\n",
    "    if (cliques, cocliques) == (False, False):\n",
    "        print(jumps)"
   ]
  },
  {
   "cell_type": "markdown",
   "id": "e2e79bd5",
   "metadata": {},
   "source": [
    "This has found 3 examples on 21 vertices suggesting that constructing a Ramsey-critical graph for this number might be achieved by appending a single vertex to one of the above!"
   ]
  },
  {
   "cell_type": "code",
   "execution_count": null,
   "id": "8ee2c08b",
   "metadata": {},
   "outputs": [],
   "source": []
  },
  {
   "cell_type": "code",
   "execution_count": null,
   "id": "2c21708a",
   "metadata": {},
   "outputs": [],
   "source": []
  },
  {
   "cell_type": "code",
   "execution_count": null,
   "id": "a766b6fc",
   "metadata": {},
   "outputs": [],
   "source": []
  },
  {
   "cell_type": "code",
   "execution_count": null,
   "id": "5d2a82ac",
   "metadata": {},
   "outputs": [],
   "source": [
    "# A graph on 42 vertices for R(5,5) lower bound\n",
    "\n",
    "n = 42\n",
    "jumps = [1, 2, 4, 8, 11]\n",
    "k1 = 5\n",
    "k2 = 5\n",
    "\n",
    "original_result, complement_result = check_cliques(n, jumps, k1, k2)\n",
    "\n",
    "print(f\"Circulant graph C({n}, {jumps}):\")\n",
    "print(f\"  Has a clique of size {k1}: {original_result}\")\n",
    "print(f\"  Its complement has a clique of size {k2}: {complement_result}\")"
   ]
  },
  {
   "cell_type": "markdown",
   "id": "a40d3a3d",
   "metadata": {},
   "source": []
  },
  {
   "cell_type": "code",
   "execution_count": null,
   "id": "ee99aae9",
   "metadata": {},
   "outputs": [],
   "source": []
  },
  {
   "cell_type": "code",
   "execution_count": null,
   "id": "6caf4c3a",
   "metadata": {},
   "outputs": [],
   "source": []
  },
  {
   "cell_type": "code",
   "execution_count": null,
   "id": "96387fb7",
   "metadata": {},
   "outputs": [],
   "source": []
  },
  {
   "cell_type": "markdown",
   "id": "834e555f",
   "metadata": {},
   "source": [
    "## Paley graphs"
   ]
  },
  {
   "cell_type": "markdown",
   "id": "b29fca40",
   "metadata": {},
   "source": [
    "Since R(3,3) and R(4,4) both come from Paley graphs. Let's think about this slightly more."
   ]
  },
  {
   "cell_type": "code",
   "execution_count": null,
   "id": "0d27b582",
   "metadata": {},
   "outputs": [],
   "source": [
    "# check_cliques(n, jumps, k1, k2):\n",
    "\n",
    "def make_jumps(p):\n",
    "    \"\"\"\n",
    "    creates the Paley graph on p vertices for p prime\n",
    "    \"\"\"\n",
    "    squares = [i**2%p for i in range(1,p // 2+1)]\n",
    "    jumps = [i if (i <= p // 2) else p-i for i in squares]\n",
    "    return jumps"
   ]
  },
  {
   "cell_type": "code",
   "execution_count": null,
   "id": "f9064e71",
   "metadata": {},
   "outputs": [],
   "source": [
    "7 // 2"
   ]
  },
  {
   "cell_type": "code",
   "execution_count": null,
   "id": "7c1b40fd",
   "metadata": {},
   "outputs": [],
   "source": [
    "make_jumps(7)"
   ]
  },
  {
   "cell_type": "code",
   "execution_count": null,
   "id": "384d57d8",
   "metadata": {},
   "outputs": [],
   "source": [
    "def check_paley(p):\n",
    "    jumps = make_jumps(p)\n",
    "    clique_small = 2\n",
    "    cliques, cocliques = check_cliques(n, jumps, clique_small, clique_small)\n",
    "    while cliques == True:\n",
    "        clique_small += 1\n",
    "        cliques, cocliques = check_cliques(n, jumps, clique_small, clique_small)\n",
    "    return clique_small"
   ]
  },
  {
   "cell_type": "code",
   "execution_count": null,
   "id": "1ed8e30c",
   "metadata": {},
   "outputs": [],
   "source": [
    "check_paley(41)"
   ]
  },
  {
   "cell_type": "code",
   "execution_count": null,
   "id": "0b1a02a3",
   "metadata": {},
   "outputs": [],
   "source": []
  }
 ],
 "metadata": {
  "kernelspec": {
   "display_name": "Python 3 (ipykernel)",
   "language": "python",
   "name": "python3"
  },
  "language_info": {
   "codemirror_mode": {
    "name": "ipython",
    "version": 3
   },
   "file_extension": ".py",
   "mimetype": "text/x-python",
   "name": "python",
   "nbconvert_exporter": "python",
   "pygments_lexer": "ipython3",
   "version": "3.11.3"
  }
 },
 "nbformat": 4,
 "nbformat_minor": 5
}
