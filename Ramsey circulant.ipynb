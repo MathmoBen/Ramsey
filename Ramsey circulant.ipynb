{
 "cells": [
  {
   "cell_type": "markdown",
   "id": "22d60d30",
   "metadata": {},
   "source": [
    "# Circulant graphs"
   ]
  },
  {
   "cell_type": "markdown",
   "id": "9c8ab527",
   "metadata": {},
   "source": [
    "Here we use some code to investigate circulant graphs for certain Ramsey properties."
   ]
  },
  {
   "cell_type": "markdown",
   "id": "ba1a7085",
   "metadata": {},
   "source": [
    "# The main functions"
   ]
  },
  {
   "cell_type": "code",
   "execution_count": 1,
   "id": "59d9497f",
   "metadata": {},
   "outputs": [],
   "source": [
    "# An important import\n",
    "\n",
    "import itertools"
   ]
  },
  {
   "cell_type": "code",
   "execution_count": 2,
   "id": "4236bb5f",
   "metadata": {},
   "outputs": [],
   "source": [
    "# Function to check if a given input circulant graph has a particular clique size\n",
    "\n",
    "def is_clique(graph, vertices):\n",
    "    \"\"\"\n",
    "    Check if the given vertices form a clique in the graph.\n",
    "    \"\"\"\n",
    "    for i in range(len(vertices)):\n",
    "        for j in range(i+1, len(vertices)):\n",
    "            if vertices[j] not in graph[vertices[i]]:\n",
    "                return False\n",
    "    return True"
   ]
  },
  {
   "cell_type": "code",
   "execution_count": 3,
   "id": "421648e1",
   "metadata": {},
   "outputs": [],
   "source": [
    "# Function that given a certain list of jumps constructs a circulat graph of that kind\n",
    "\n",
    "def create_circulant_graph(n, jumps):\n",
    "    \"\"\"\n",
    "    Create a circulant graph with n vertices and given jumps.\n",
    "    \"\"\"\n",
    "    graph = {i: set() for i in range(n)}\n",
    "    for i in range(n):\n",
    "        for jump in jumps:\n",
    "            graph[i].add((i + jump) % n)\n",
    "            graph[i].add((i - jump) % n)\n",
    "    return graph"
   ]
  },
  {
   "cell_type": "code",
   "execution_count": 4,
   "id": "251f2e8f",
   "metadata": {},
   "outputs": [],
   "source": [
    "# A graph that creates the complement of a given circulant graph\n",
    "\n",
    "def create_complement_graph(n, original_graph):\n",
    "    \"\"\"\n",
    "    Create the complement of the given graph.\n",
    "    \"\"\"\n",
    "    complement = {i: set(range(n)) - {i} - original_graph[i] for i in range(n)}\n",
    "    return complement"
   ]
  },
  {
   "cell_type": "code",
   "execution_count": 5,
   "id": "5347c28b",
   "metadata": {},
   "outputs": [],
   "source": [
    "# Function that checks if a given circulant graph has a clique of a given size\n",
    "\n",
    "def has_clique(graph, k):\n",
    "    \"\"\"Check if the graph has a clique of size k.\"\"\"\n",
    "    for combo in itertools.combinations(range(len(graph)), k):\n",
    "        if is_clique(graph, combo):\n",
    "            return True\n",
    "    return False"
   ]
  },
  {
   "cell_type": "code",
   "execution_count": 6,
   "id": "218defab",
   "metadata": {},
   "outputs": [],
   "source": [
    "# Finally, the main function pulling all of the above together\n",
    "\n",
    "def check_cliques(n, jumps, k1, k2):\n",
    "    \"\"\"\n",
    "    Check if a circulant graph has a clique of size k1 and its complement has a clique of size k2.\n",
    "    \n",
    "    :param n: Number of vertices in the graph\n",
    "    :param jumps: List of jumps that define the circulant graph\n",
    "    :param k1: Size of the clique to search for in the original graph\n",
    "    :param k2: Size of the clique to search for in the complement graph\n",
    "    :return: Tuple (bool, bool) indicating presence of cliques in original and complement graphs\n",
    "    \"\"\"\n",
    "    original_graph = create_circulant_graph(n, jumps)\n",
    "    complement_graph = create_complement_graph(n, original_graph)\n",
    "    \n",
    "    clique_in_original = has_clique(original_graph, k1)\n",
    "    clique_in_complement = has_clique(complement_graph, k2)\n",
    "    \n",
    "    return clique_in_original, clique_in_complement"
   ]
  },
  {
   "cell_type": "markdown",
   "id": "92df2529",
   "metadata": {},
   "source": [
    "## Examples"
   ]
  },
  {
   "cell_type": "code",
   "execution_count": 7,
   "id": "07c79c1d",
   "metadata": {},
   "outputs": [
    {
     "name": "stdout",
     "output_type": "stream",
     "text": [
      "Circulant graph C(5, [1]):\n",
      "  Has a clique of size 3: False\n",
      "  Its complement has a clique of size 3: False\n"
     ]
    }
   ],
   "source": [
    "# The 5-cycle for R(3,3)\n",
    "\n",
    "n = 5\n",
    "jumps = [1]\n",
    "k1 = k2 = 3\n",
    "\n",
    "original_result, complement_result = check_cliques(n, jumps, k1, k2)\n",
    "\n",
    "print(f\"Circulant graph C({n}, {jumps}):\")\n",
    "print(f\"  Has a clique of size {k1}: {original_result}\")\n",
    "print(f\"  Its complement has a clique of size {k2}: {complement_result}\")"
   ]
  },
  {
   "cell_type": "code",
   "execution_count": 8,
   "id": "8b46c11c",
   "metadata": {},
   "outputs": [
    {
     "name": "stdout",
     "output_type": "stream",
     "text": [
      "Circulant graph C(8, [1, 4]):\n",
      "  Has a clique of size 3: False\n",
      "  Its complement has a clique of size 4: False\n"
     ]
    }
   ],
   "source": [
    "# A certain graph for R(3,4)\n",
    "\n",
    "n=8\n",
    "jumps = [1, 4]\n",
    "k1 = 3\n",
    "k2 = 4\n",
    "\n",
    "original_result, complement_result = check_cliques(n, jumps, k1, k2)\n",
    "\n",
    "print(f\"Circulant graph C({n}, {jumps}):\")\n",
    "print(f\"  Has a clique of size {k1}: {original_result}\")\n",
    "print(f\"  Its complement has a clique of size {k2}: {complement_result}\")"
   ]
  },
  {
   "cell_type": "code",
   "execution_count": 9,
   "id": "c2044250",
   "metadata": {},
   "outputs": [
    {
     "name": "stdout",
     "output_type": "stream",
     "text": [
      "Circulant graph C(17, [1, 2, 4, 8]):\n",
      "  Has a clique of size 4: False\n",
      "  Its complement has a clique of size 4: False\n"
     ]
    }
   ],
   "source": [
    "# Paley graph on 17 vertices for R(4,4)\n",
    "\n",
    "n = 17\n",
    "jumps = [1, 2, 4, 8]\n",
    "k1 = 4\n",
    "k2 = 4\n",
    "\n",
    "original_result, complement_result = check_cliques(n, jumps, k1, k2)\n",
    "\n",
    "print(f\"Circulant graph C({n}, {jumps}):\")\n",
    "print(f\"  Has a clique of size {k1}: {original_result}\")\n",
    "print(f\"  Its complement has a clique of size {k2}: {complement_result}\")"
   ]
  },
  {
   "cell_type": "code",
   "execution_count": 21,
   "id": "5543caca",
   "metadata": {},
   "outputs": [
    {
     "name": "stdout",
     "output_type": "stream",
     "text": [
      "Circulant graph C(17, [1, 2, 4, 6, 7]):\n",
      "  Has a clique of size 4: True\n",
      "  Its complement has a clique of size 4: False\n"
     ]
    }
   ],
   "source": [
    "# For comparison other graphs on 17 vertices that don't work\n",
    "\n",
    "n=17\n",
    "jumps = [1, 2, 4, 6, 7]\n",
    "k1 = 4\n",
    "k2 = 4\n",
    "\n",
    "original_result, complement_result = check_cliques(n, jumps, k1, k2)\n",
    "\n",
    "print(f\"Circulant graph C({n}, {jumps}):\")\n",
    "print(f\"  Has a clique of size {k1}: {original_result}\")\n",
    "print(f\"  Its complement has a clique of size {k2}: {complement_result}\")"
   ]
  },
  {
   "cell_type": "code",
   "execution_count": 76,
   "id": "0a1878c3",
   "metadata": {},
   "outputs": [
    {
     "name": "stdout",
     "output_type": "stream",
     "text": [
      "Circulant graph C(17, [1, 3, 4, 7]):\n",
      "  Has a clique of size 3: True\n",
      "  Its complement has a clique of size 6: False\n"
     ]
    }
   ],
   "source": [
    "# For R(3,6) there appear to be no Ramsey-critical circulant graphs!\n",
    "\n",
    "n = 17  # number of vertices\n",
    "jumps = [1, 3, 4, 7]  # jumps for the circulant graph\n",
    "k1 = 3  # size of clique to search for in original graph\n",
    "k2 = 6  # size of clique to search for in complement graph\n",
    "\n",
    "original_result, complement_result = check_cliques(n, jumps, k1, k2)\n",
    "\n",
    "print(f\"Circulant graph C({n}, {jumps}):\")\n",
    "print(f\"  Has a clique of size {k1}: {original_result}\")\n",
    "print(f\"  Its complement has a clique of size {k2}: {complement_result}\")"
   ]
  },
  {
   "cell_type": "code",
   "execution_count": null,
   "id": "50074b4e",
   "metadata": {},
   "outputs": [],
   "source": []
  }
 ],
 "metadata": {
  "kernelspec": {
   "display_name": "Python 3 (ipykernel)",
   "language": "python",
   "name": "python3"
  },
  "language_info": {
   "codemirror_mode": {
    "name": "ipython",
    "version": 3
   },
   "file_extension": ".py",
   "mimetype": "text/x-python",
   "name": "python",
   "nbconvert_exporter": "python",
   "pygments_lexer": "ipython3",
   "version": "3.11.3"
  }
 },
 "nbformat": 4,
 "nbformat_minor": 5
}
