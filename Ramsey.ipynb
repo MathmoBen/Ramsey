{
 "cells": [
  {
   "cell_type": "markdown",
   "id": "2de542d5",
   "metadata": {},
   "source": [
    "# Circulant graphs and Ramsey numbers"
   ]
  },
  {
   "cell_type": "markdown",
   "id": "dec94bb5",
   "metadata": {},
   "source": [
    "We attempt to investigate low-degree circulant graphs with a view to investigating small classical Ramsey numbers. For reference consider: https://www.combinatorics.org/ojs/index.php/eljc/article/view/DS1/pdf"
   ]
  },
  {
   "cell_type": "markdown",
   "id": "9e54038c",
   "metadata": {},
   "source": [
    "## Paley graph on 17 vertices"
   ]
  },
  {
   "cell_type": "markdown",
   "id": "5563392b",
   "metadata": {},
   "source": [
    "The below code confirms that the Paley graph on 17 vertices has a $K_4$ in neither the graph itself nor its complement."
   ]
  },
  {
   "cell_type": "code",
   "execution_count": null,
   "id": "9c47ca96",
   "metadata": {},
   "outputs": [],
   "source": [
    "graph = [1,2,4,8]\n",
    "\n",
    "n = 17\n",
    "\n",
    "complement = [nonedge for nonedge in range(0,n) if nonedge not in graph and n-nonedge not in graph]\n",
    "\n",
    "print(complement)"
   ]
  },
  {
   "cell_type": "code",
   "execution_count": null,
   "id": "de6cd4a0",
   "metadata": {},
   "outputs": [],
   "source": [
    "# Function to perform the check\n",
    "\n",
    "def check_for_k4(edges,n):\n",
    "    total = 0\n",
    "    edges_new = [i for i in range(n) if i not in edges and n-i not in edges]\n",
    "    for i1 in range(n-3):\n",
    "        for i2 in range(i1+1,n-2):\n",
    "            for i3 in range(i2+1,n-1):\n",
    "                for i4 in range(i3+1,n):\n",
    "                    if (i2 - i1 in edges_new and\n",
    "                       i3 - i1 in edges_new and\n",
    "                       i4 - i1 in edges_new and\n",
    "                       i3 - i2 in edges_new and\n",
    "                       i4 - i2 in edges_new and\n",
    "                       i4 - i3 in edges_new):\n",
    "                        total += 1\n",
    "    return total"
   ]
  },
  {
   "cell_type": "code",
   "execution_count": null,
   "id": "c3b5dccf",
   "metadata": {},
   "outputs": [],
   "source": [
    "check_for_k4([1,2,4,8],17)"
   ]
  },
  {
   "cell_type": "code",
   "execution_count": null,
   "id": "172dc854",
   "metadata": {},
   "outputs": [],
   "source": [
    "edges = [1,2,4,8]\n",
    "comp = [i for i in range(17) if i not in edges and 17-i not in edges]\n",
    "comp = [i for i in range(17) if i not in edges]\n",
    "\n",
    "check_for_k4(comp,17)"
   ]
  },
  {
   "cell_type": "code",
   "execution_count": null,
   "id": "f45584b5",
   "metadata": {},
   "outputs": [],
   "source": [
    "comp"
   ]
  },
  {
   "cell_type": "markdown",
   "id": "b35983a2",
   "metadata": {},
   "source": [
    "# Search for this graph"
   ]
  },
  {
   "cell_type": "code",
   "execution_count": null,
   "id": "214c51e1",
   "metadata": {},
   "outputs": [],
   "source": [
    "for i in range(2,7):\n",
    "    for j in range(i+1,8):\n",
    "        for k in range(j+1,9):\n",
    "            if check_for_k4([1,i,j,k],17) == 0:\n",
    "                comp = [edges for edges in range(9) if edges not in [1,i,j,k]]\n",
    "                if check_for_k4(comp,17) == 0:\n",
    "                    print(i,j,k)"
   ]
  },
  {
   "cell_type": "code",
   "execution_count": null,
   "id": "15a87d22",
   "metadata": {},
   "outputs": [],
   "source": [
    "a = [1,2,4,8]\n",
    "b = {i for i in range(17) if i in a or 17-i in a}\n",
    "c = list(b)\n",
    "c"
   ]
  },
  {
   "cell_type": "code",
   "execution_count": null,
   "id": "5d9ebaa6",
   "metadata": {},
   "outputs": [],
   "source": []
  },
  {
   "cell_type": "code",
   "execution_count": null,
   "id": "87344518",
   "metadata": {},
   "outputs": [],
   "source": []
  },
  {
   "cell_type": "markdown",
   "id": "762d1d61",
   "metadata": {},
   "source": [
    "## Circulant candidates for R(4,5)"
   ]
  },
  {
   "cell_type": "code",
   "execution_count": null,
   "id": "736feb56",
   "metadata": {},
   "outputs": [],
   "source": [
    "n == 0\n",
    "\n",
    "graphs = []\n",
    "\n",
    "for i in range(2,10):\n",
    "    for j in range(i+1,11):\n",
    "        for k in range(j+1,12):\n",
    "            if check_for_k4([1,i,j,k], 24) == 0:\n",
    "                n += 1\n",
    "                print([i,j,k])\n",
    "                graphs.append([i,j,k])\n",
    "                \n",
    "n"
   ]
  },
  {
   "cell_type": "code",
   "execution_count": null,
   "id": "f9694ce5",
   "metadata": {},
   "outputs": [],
   "source": [
    "graphs"
   ]
  },
  {
   "cell_type": "code",
   "execution_count": null,
   "id": "d337b597",
   "metadata": {},
   "outputs": [],
   "source": [
    "def check_for_k5(edges,n):\n",
    "    total = 0\n",
    "    for i1 in range(n-4):\n",
    "        for i2 in range(i1+1,n-3):\n",
    "            for i3 in range(i2+1,n-2):\n",
    "                for i4 in range(i3+1,n-1):\n",
    "                    for i5 in range(i4+1,n):\n",
    "                        if (i2 - i1 in edges and\n",
    "                           i3 - i1 in edges and\n",
    "                           i4 - i1 in edges and\n",
    "                           i5 - i1 in edges and\n",
    "                           i3 - i2 in edges and\n",
    "                           i4 - i2 in edges and\n",
    "                           i5 - i2 in edges and\n",
    "                           i4 - i3 in edges and\n",
    "                           i5 - i3 in edges and\n",
    "                           i5 - i4 in edges):\n",
    "                            total += 1\n",
    "    return total"
   ]
  },
  {
   "cell_type": "code",
   "execution_count": null,
   "id": "eca818ef",
   "metadata": {},
   "outputs": [],
   "source": [
    "n == 0\n",
    "\n",
    "for graph in graphs:\n",
    "    graph_comp = [edge for edge in range(1,25) if edge not in graph or 25-edge not in graph]\n",
    "    if check_for_k5([i1,i2,i3,i4,i5],24) == 0:\n",
    "        print([i1,i2,i3,i4,i5])\n",
    "        n += 1\n",
    "        \n",
    "n"
   ]
  },
  {
   "cell_type": "markdown",
   "id": "effd538a",
   "metadata": {},
   "source": [
    "# itertools approach"
   ]
  },
  {
   "cell_type": "code",
   "execution_count": null,
   "id": "ad77c3d8",
   "metadata": {},
   "outputs": [],
   "source": [
    "import itertools"
   ]
  },
  {
   "cell_type": "code",
   "execution_count": null,
   "id": "6b9f53a8",
   "metadata": {},
   "outputs": [],
   "source": [
    "# finding K4s\n",
    "\n",
    "def check_for_k4_iter(edges, n):\n",
    "    total = 0\n",
    "    edges_new = [i for i in range(n) if i not in edges and n-i not in edges]\n",
    "    comb = itertools.combinations(range(n),4)\n",
    "    for i in comb:\n",
    "        l = list(i)\n",
    "        pairs = itertools.combinations([0,1,2,3],2)\n",
    "        check = list({abs(l[j]-l[k]) for j,k in pairs})\n",
    "        print(check)"
   ]
  },
  {
   "cell_type": "code",
   "execution_count": null,
   "id": "e26d3337",
   "metadata": {},
   "outputs": [],
   "source": [
    "check_for_k4_iter([1,2,4,8],17)"
   ]
  },
  {
   "cell_type": "code",
   "execution_count": null,
   "id": "b894e6d1",
   "metadata": {},
   "outputs": [],
   "source": [
    "fact = lambda n: 1 if n == 1 else n*fact(n-1)"
   ]
  },
  {
   "cell_type": "code",
   "execution_count": null,
   "id": "113fa111",
   "metadata": {},
   "outputs": [],
   "source": [
    "bin_calc = lambda n, r: fact(n) / (fact(r)*fact(n-r))"
   ]
  },
  {
   "cell_type": "code",
   "execution_count": null,
   "id": "7812fde0",
   "metadata": {},
   "outputs": [],
   "source": [
    "bin_calc(17,4)"
   ]
  },
  {
   "cell_type": "code",
   "execution_count": null,
   "id": "78658013",
   "metadata": {},
   "outputs": [],
   "source": []
  },
  {
   "cell_type": "code",
   "execution_count": null,
   "id": "4276b01e",
   "metadata": {},
   "outputs": [],
   "source": []
  },
  {
   "cell_type": "code",
   "execution_count": null,
   "id": "33a19f68",
   "metadata": {},
   "outputs": [],
   "source": [
    "# function for finding \n",
    "\n",
    "comb = itertools.combinations(range(2,9), 3)\n",
    "\n",
    "for item in comb:\n",
    "    cand = [1]+list(item)\n",
    "    cand = [i for i in range(17) if i in cand or 17-i in cand]\n",
    "    if check_for_k4(cand,17) == 0:\n",
    "        comp = [i for i in range(17) if i not in cand and 17-i not in cand]\n",
    "        if check_for_k4(comp, 17) == 0:\n",
    "            print(item)"
   ]
  },
  {
   "cell_type": "code",
   "execution_count": null,
   "id": "85cc33b1",
   "metadata": {},
   "outputs": [],
   "source": [
    "from pprint import pprint"
   ]
  },
  {
   "cell_type": "code",
   "execution_count": null,
   "id": "ea39e240",
   "metadata": {},
   "outputs": [],
   "source": [
    "a = {i**2%101 for i in range(101)}\n",
    "b = [i for i in a if i < 51]\n",
    "pprint(b)"
   ]
  },
  {
   "cell_type": "markdown",
   "id": "8ad122a4",
   "metadata": {},
   "source": [
    "## Better itertools approach"
   ]
  },
  {
   "cell_type": "code",
   "execution_count": 1,
   "id": "ee229565",
   "metadata": {},
   "outputs": [],
   "source": [
    "import itertools\n",
    "\n",
    "def is_clique(graph, vertices):\n",
    "    \"\"\"\n",
    "    Check if the given vertices form a clique in the graph.\n",
    "    \"\"\"\n",
    "    for i in range(len(vertices)):\n",
    "        for j in range(i+1, len(vertices)):\n",
    "            if vertices[j] not in graph[vertices[i]]:\n",
    "                return False\n",
    "    return True\n",
    "\n",
    "def has_clique(n, jumps, k):\n",
    "    \"\"\"\n",
    "    Check if a circulant graph with n vertices and given jumps has a clique of size k.\n",
    "    \n",
    "    :param n: Number of vertices in the graph\n",
    "    :param jumps: List of jumps that define the circulant graph\n",
    "    :param k: Size of the clique to search for\n",
    "    :return: True if a clique of size k exists, False otherwise\n",
    "    \"\"\"\n",
    "    # Create the graph\n",
    "    graph = {i: set() for i in range(n)}\n",
    "    for i in range(n):\n",
    "        for jump in jumps:\n",
    "            graph[i].add((i + jump) % n)\n",
    "            graph[i].add((i - jump) % n)\n",
    "    \n",
    "    # Check all possible combinations of k vertices\n",
    "    for combo in itertools.combinations(range(n), k):\n",
    "        if is_clique(graph, combo):\n",
    "            return True\n",
    "    \n",
    "    return False"
   ]
  },
  {
   "cell_type": "code",
   "execution_count": 2,
   "id": "ab26b92b",
   "metadata": {},
   "outputs": [
    {
     "name": "stdout",
     "output_type": "stream",
     "text": [
      "Does the circulant graph C(17, [1, 2, 4, 8]) have a clique of size 4? False\n"
     ]
    }
   ],
   "source": [
    "# Example usage\n",
    "n = 17  # number of vertices\n",
    "jumps = [1, 2, 4, 8]  # jumps for the circulant graph\n",
    "k = 4  # size of clique to search for\n",
    "\n",
    "result = has_clique(n, jumps, k)\n",
    "print(f\"Does the circulant graph C({n}, {jumps}) have a clique of size {k}? {result}\")"
   ]
  },
  {
   "cell_type": "code",
   "execution_count": null,
   "id": "d4367b9f",
   "metadata": {},
   "outputs": [],
   "source": []
  }
 ],
 "metadata": {
  "kernelspec": {
   "display_name": "Python 3 (ipykernel)",
   "language": "python",
   "name": "python3"
  },
  "language_info": {
   "codemirror_mode": {
    "name": "ipython",
    "version": 3
   },
   "file_extension": ".py",
   "mimetype": "text/x-python",
   "name": "python",
   "nbconvert_exporter": "python",
   "pygments_lexer": "ipython3",
   "version": "3.11.3"
  }
 },
 "nbformat": 4,
 "nbformat_minor": 5
}
