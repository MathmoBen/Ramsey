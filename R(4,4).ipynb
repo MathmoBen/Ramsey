{
 "cells": [
  {
   "cell_type": "markdown",
   "id": "1550af51",
   "metadata": {},
   "source": [
    "# R(4,4)"
   ]
  },
  {
   "cell_type": "markdown",
   "id": "5dbb0c57",
   "metadata": {},
   "source": [
    "In this notebook we discuss the Paley graph on 17 vertices, i.e. the unique Ramsey-critical graph for the number R(4,4)=18. For (slightly) more information, see https://www.combinatorics.org/ojs/index.php/eljc/article/view/DS1/pdf"
   ]
  },
  {
   "cell_type": "code",
   "execution_count": 1,
   "id": "965d3992",
   "metadata": {},
   "outputs": [],
   "source": [
    "# Function to perform the check\n",
    "\n",
    "def check_for_k4(edges,n):\n",
    "    total = 0\n",
    "    edges_new = [i for i in range(17) if i not in edges and n-i not in edges]\n",
    "    for i1 in range(n-3):\n",
    "        for i2 in range(i1+1,n-2):\n",
    "            for i3 in range(i2+1,n-1):\n",
    "                for i4 in range(i3+1,n):\n",
    "                    if all((i2 - i1 in edges_new, i3 - i1 in edges_new, i4 - i1 in edges_new, i3 - i2 in edges_new,\n",
    "                       i4 - i2 in edges_new, i4 - i3 in edges_new)):\n",
    "                        total += 1\n",
    "    return total"
   ]
  },
  {
   "cell_type": "code",
   "execution_count": 2,
   "id": "ab315203",
   "metadata": {},
   "outputs": [
    {
     "name": "stdout",
     "output_type": "stream",
     "text": [
      "[0, 3, 5, 6, 7, 10, 11, 12, 14]\n"
     ]
    }
   ],
   "source": [
    "graph = [1,2,4,8]\n",
    "\n",
    "n = 17\n",
    "\n",
    "complement = [nonedge for nonedge in range(0,n) if nonedge not in graph and n-nonedge not in graph]\n",
    "\n",
    "print(complement)"
   ]
  },
  {
   "cell_type": "code",
   "execution_count": 3,
   "id": "61d553d7",
   "metadata": {},
   "outputs": [
    {
     "data": {
      "text/plain": [
       "0"
      ]
     },
     "execution_count": 3,
     "metadata": {},
     "output_type": "execute_result"
    }
   ],
   "source": [
    "check_for_k4([1,2,4,8],17)"
   ]
  },
  {
   "cell_type": "code",
   "execution_count": 4,
   "id": "73a8d593",
   "metadata": {},
   "outputs": [
    {
     "data": {
      "text/plain": [
       "0"
      ]
     },
     "execution_count": 4,
     "metadata": {},
     "output_type": "execute_result"
    }
   ],
   "source": [
    "edges = [1,2,4,8]\n",
    "comp = [i for i in range(17) if i not in edges and 17-i not in edges]\n",
    "comp = [i for i in range(17) if i not in edges]\n",
    "\n",
    "check_for_k4(comp,17)"
   ]
  },
  {
   "cell_type": "code",
   "execution_count": null,
   "id": "599589d8",
   "metadata": {},
   "outputs": [],
   "source": []
  }
 ],
 "metadata": {
  "kernelspec": {
   "display_name": "Python 3 (ipykernel)",
   "language": "python",
   "name": "python3"
  },
  "language_info": {
   "codemirror_mode": {
    "name": "ipython",
    "version": 3
   },
   "file_extension": ".py",
   "mimetype": "text/x-python",
   "name": "python",
   "nbconvert_exporter": "python",
   "pygments_lexer": "ipython3",
   "version": "3.11.3"
  }
 },
 "nbformat": 4,
 "nbformat_minor": 5
}
