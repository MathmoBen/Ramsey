{
 "cells": [
  {
   "cell_type": "markdown",
   "id": "13289cef",
   "metadata": {},
   "source": [
    "# The Ramsey Number R(3,7)"
   ]
  },
  {
   "cell_type": "markdown",
   "id": "1b94cee8",
   "metadata": {},
   "source": [
    "Investigating circulant graph for small Ramsey numbers reveals that there is no Ramsey-critical graph for this Ramsey number however there is are circulant graphs (possibly - need to check isomorphism!) that fall short by one vertex. The hope is that these may be extended to construct at least one Ramsey-ciritcal graph. "
   ]
  },
  {
   "cell_type": "markdown",
   "id": "ceb77f87",
   "metadata": {},
   "source": [
    "# The functions"
   ]
  },
  {
   "cell_type": "markdown",
   "id": "b4f4ddc6",
   "metadata": {},
   "source": [
    "First we verify that there is no circulant Ramsey-critical graph for this number."
   ]
  },
  {
   "cell_type": "code",
   "execution_count": null,
   "id": "c64acb88",
   "metadata": {},
   "outputs": [],
   "source": [
    "# An important import\n",
    "\n",
    "import itertools\n",
    "from itertools import combinations"
   ]
  },
  {
   "cell_type": "code",
   "execution_count": null,
   "id": "5d90fbb5",
   "metadata": {},
   "outputs": [],
   "source": [
    "# Function to check if a given input circulant graph has a particular clique size\n",
    "\n",
    "def is_clique(graph: set, vertices: list) -> bool:\n",
    "    \"\"\"\n",
    "    Check if the given vertices form a clique in the graph.\n",
    "    \"\"\"\n",
    "    for i in range(len(vertices)):\n",
    "        for j in range(i+1, len(vertices)):\n",
    "            if vertices[j] not in graph[vertices[i]]:\n",
    "                return False\n",
    "    return True"
   ]
  },
  {
   "cell_type": "code",
   "execution_count": null,
   "id": "33d47537",
   "metadata": {},
   "outputs": [],
   "source": [
    "# Function that given a certain list of jumps constructs a circulat graph of that kind\n",
    "\n",
    "def create_circulant_graph(n: int, jumps: set) -> set:\n",
    "    \"\"\"\n",
    "    Create a circulant graph with n vertices and given jumps.\n",
    "    \"\"\"\n",
    "    graph = {i: set() for i in range(n)}\n",
    "    for i in range(n):\n",
    "        for jump in jumps:\n",
    "            graph[i].add((i + jump) % n)\n",
    "            graph[i].add((i - jump) % n)\n",
    "    return graph"
   ]
  },
  {
   "cell_type": "code",
   "execution_count": null,
   "id": "08bae34d",
   "metadata": {},
   "outputs": [],
   "source": [
    "# A graph that creates the complement of a given circulant graph\n",
    "\n",
    "def create_complement_graph(n: int, original_graph: set) -> set:\n",
    "    \"\"\"\n",
    "    Create the complement of the given graph.\n",
    "    \"\"\"\n",
    "    complement = {i: set(range(n)) - {i} - original_graph[i] for i in range(n)}\n",
    "    return complement"
   ]
  },
  {
   "cell_type": "code",
   "execution_count": null,
   "id": "29e8b9a4",
   "metadata": {},
   "outputs": [],
   "source": [
    "# Function that checks if a given circulant graph has a clique of a given size\n",
    "\n",
    "def has_clique(graph: set, k: int) -> bool:\n",
    "    \"\"\"\n",
    "    Check if the graph has a clique of size k.\n",
    "    \"\"\"\n",
    "    for combo in itertools.combinations(range(len(graph)), k):\n",
    "        if is_clique(graph, combo):\n",
    "            return True\n",
    "    return False"
   ]
  },
  {
   "cell_type": "code",
   "execution_count": null,
   "id": "4cdae4b5",
   "metadata": {},
   "outputs": [],
   "source": [
    "# Finally, the main function pulling all of the above together\n",
    "\n",
    "def check_cliques(n: int, jumps: list, k1: int, k2: int) -> tuple:\n",
    "    \"\"\"\n",
    "    Check if a circulant graph has a clique of size k1 and its complement has a clique of size k2.\n",
    "    \n",
    "    :param n: Number of vertices in the graph\n",
    "    :param jumps: List of jumps that define the circulant graph\n",
    "    :param k1: Size of the clique to search for in the original graph\n",
    "    :param k2: Size of the clique to search for in the complement graph\n",
    "    :return: Tuple (bool, bool) indicating presence of cliques in original and complement graphs\n",
    "    \"\"\"\n",
    "    original_graph = create_circulant_graph(n, jumps)\n",
    "    complement_graph = create_complement_graph(n, original_graph)\n",
    "    \n",
    "    clique_in_original = has_clique(original_graph, k1)\n",
    "    clique_in_complement = has_clique(complement_graph, k2)\n",
    "    \n",
    "    return clique_in_original, clique_in_complement"
   ]
  },
  {
   "cell_type": "markdown",
   "id": "95915219",
   "metadata": {},
   "source": [
    "# Non-existence of a circulant example"
   ]
  },
  {
   "cell_type": "markdown",
   "id": "6481e1d5",
   "metadata": {},
   "source": [
    "Here we use the above functions to verify that there are no circulant Ramsey-critical graphs."
   ]
  },
  {
   "cell_type": "code",
   "execution_count": null,
   "id": "25fb3e4e",
   "metadata": {},
   "outputs": [],
   "source": [
    "# just 2 jumps\n",
    "\n",
    "for i in range(3,12):\n",
    "    \"\"\"\n",
    "    checks circulant graphs with a pair of jumps\n",
    "    \"\"\"\n",
    "    jumps = [1,i]\n",
    "    cliques, cocliques = check_cliques(22, jumps, 3, 7)\n",
    "    print([jumps, cliques, cocliques])"
   ]
  },
  {
   "cell_type": "code",
   "execution_count": null,
   "id": "0828d5d2",
   "metadata": {},
   "outputs": [],
   "source": [
    "# 3 jumps\n",
    "\n",
    "for i in range(3,10):\n",
    "    for j in range(i+2,12):\n",
    "        \"\"\"\n",
    "        checks circulant graphs with 3 jumps\n",
    "        \"\"\"\n",
    "        jumps = [1, i, j]\n",
    "        cliques, cocliques = check_cliques(22, jumps, 3, 7)\n",
    "        if (cliques, cocliques) == (False, False):\n",
    "            print([1, i, j])"
   ]
  },
  {
   "cell_type": "code",
   "execution_count": null,
   "id": "1e240b05",
   "metadata": {},
   "outputs": [],
   "source": [
    "# 4 jumps\n",
    "\n",
    "for i in range(3,8):\n",
    "    for j in range(i+2,10):\n",
    "        for k in range(j+2, 12):\n",
    "            \"\"\"\n",
    "            checks circulant graphs with 3 jumps\n",
    "            \"\"\"\n",
    "            jumps = [1, i, j, k]\n",
    "            cliques, cocliques = check_cliques(22, jumps, 3, 7)\n",
    "            if (cliques, cocliques) == (False, False):\n",
    "                print([1, i, j, k])"
   ]
  },
  {
   "cell_type": "markdown",
   "id": "13e141fa",
   "metadata": {},
   "source": [
    "At this point our graph is so dense that adding more jumps is guaranteed to creat a triangle confirming that there's no Ramsey-critical graph that's circulant. We thus look for a non-critical graphs on fewer vertices with a view to extending such examples."
   ]
  },
  {
   "cell_type": "code",
   "execution_count": null,
   "id": "52c066b6",
   "metadata": {},
   "outputs": [],
   "source": [
    "# 3 jumps on 21 vertices\n",
    "\n",
    "for i in range(3,9):\n",
    "    for j in range(i+2,11):\n",
    "        \"\"\"\n",
    "        checks circulant graphs with 3 jumps\n",
    "        \"\"\"\n",
    "        jumps = [1, i, j]\n",
    "        cliques, cocliques = check_cliques(21, jumps, 3, 7)\n",
    "        if (cliques, cocliques) == (False, False):\n",
    "            print(jumps)"
   ]
  },
  {
   "cell_type": "code",
   "execution_count": null,
   "id": "fbea5b9d",
   "metadata": {},
   "outputs": [],
   "source": [
    "# 3 jumps on 20 vertices\n",
    "\n",
    "for i in range(3,8):\n",
    "    for j in range(i+2,10):\n",
    "        \"\"\"\n",
    "        checks circulant graphs with 3 jumps\n",
    "        \"\"\"\n",
    "        jumps = [1, i, j]\n",
    "        cliques, cocliques = check_cliques(20, jumps, 3, 7)\n",
    "        if (cliques, cocliques) == (False, False):\n",
    "            print(jumps)"
   ]
  },
  {
   "cell_type": "markdown",
   "id": "da7a7e6d",
   "metadata": {},
   "source": [
    "## Circulant with no K8"
   ]
  },
  {
   "cell_type": "markdown",
   "id": "205eb3cd",
   "metadata": {},
   "source": [
    "In a change of approach we find a circulant graph on 23 vertices that has no K8 in the hope that adding some edges may produce an example."
   ]
  },
  {
   "cell_type": "code",
   "execution_count": null,
   "id": "b3923706",
   "metadata": {},
   "outputs": [],
   "source": [
    "# just 2 jumps\n",
    "\n",
    "for i in range(3,13):\n",
    "    \"\"\"\n",
    "    checks circulant graphs with a pair of jumps\n",
    "    \"\"\"\n",
    "    jumps = [1,i]\n",
    "    cliques, cocliques = check_cliques(23, jumps, 3, 8)\n",
    "    print([jumps, cliques, cocliques])"
   ]
  },
  {
   "cell_type": "code",
   "execution_count": null,
   "id": "44153c01",
   "metadata": {},
   "outputs": [],
   "source": [
    "# 3 jumps\n",
    "\n",
    "for i in range(3,11):\n",
    "    for j in range(i+2,13):\n",
    "        \"\"\"\n",
    "        checks circulant graphs with three of jumps\n",
    "        \"\"\"\n",
    "        jumps = [1,i,j]\n",
    "        cliques, cocliques = check_cliques(23, jumps, 3, 8)\n",
    "        if (cliques, cocliques) == (False, False):\n",
    "            print(jumps)"
   ]
  },
  {
   "cell_type": "markdown",
   "id": "26554779",
   "metadata": {},
   "source": [
    "With a view to trying to add more edges we try to find all the cocliques of size 7 in at least one of the examples."
   ]
  },
  {
   "cell_type": "code",
   "execution_count": null,
   "id": "b1fd4db8",
   "metadata": {},
   "outputs": [],
   "source": [
    "# Function to do this\n",
    "\n",
    "def find_cliques_and_cocliques(n: int, connections: list, m: int, k: int) -> tuple:\n",
    "    \"\"\"\n",
    "    Find all cliques of size m and cocliques of size k in a circulant graph.\n",
    "    \n",
    "    :param n: Number of vertices in the graph\n",
    "    :param connections: List of connections defining the circulant graph\n",
    "    :param m: Size of cliques to find\n",
    "    :param k: Size of cocliques to find\n",
    "    :return: Tuple of (list of cliques, list of cocliques)\n",
    "    \"\"\"\n",
    "    def is_clique(vertices):\n",
    "        for i, j in combinations(vertices, 2):\n",
    "            if (j - i) % n not in connections and (i - j) % n not in connections:\n",
    "                return False\n",
    "        return True\n",
    "    \n",
    "    def is_coclique(vertices):\n",
    "        for i, j in combinations(vertices, 2):\n",
    "            if (j - i) % n in connections or (i - j) % n in connections:\n",
    "                return False\n",
    "        return True\n",
    "    \n",
    "    all_vertices = set(range(n))\n",
    "    cliques = [c for c in combinations(all_vertices, m) if is_clique(c)]\n",
    "    cocliques = [c for c in combinations(all_vertices, k) if is_coclique(c)]\n",
    "    \n",
    "    return cliques, cocliques"
   ]
  },
  {
   "cell_type": "code",
   "execution_count": null,
   "id": "624d56ad",
   "metadata": {},
   "outputs": [],
   "source": [
    "# Example usage\n",
    "n = 23  # number of vertices\n",
    "connections = [1, 3, 8]  # connections in the circulant graph\n",
    "m = 3  # size of cliques to find\n",
    "k = 7  # size of cocliques to find\n",
    "\n",
    "cliques, cocliques = find_cliques_and_cocliques(n, connections, m, k)\n",
    "\n",
    "print(\"Cliques:\", cliques)\n",
    "print(\"Cocliques:\", cocliques)"
   ]
  },
  {
   "cell_type": "code",
   "execution_count": null,
   "id": "3dbf7a99",
   "metadata": {},
   "outputs": [],
   "source": [
    "len(cocliques)"
   ]
  },
  {
   "cell_type": "code",
   "execution_count": null,
   "id": "62530ebf",
   "metadata": {},
   "outputs": [],
   "source": [
    "zeros = [i for i in cocliques if 0 in i]"
   ]
  },
  {
   "cell_type": "code",
   "execution_count": null,
   "id": "5a307883",
   "metadata": {},
   "outputs": [],
   "source": [
    "len(zeros)"
   ]
  },
  {
   "cell_type": "code",
   "execution_count": null,
   "id": "ec2ca25d",
   "metadata": {},
   "outputs": [],
   "source": [
    "zeros"
   ]
  },
  {
   "cell_type": "code",
   "execution_count": null,
   "id": "b60f3ea8",
   "metadata": {},
   "outputs": [],
   "source": [
    "for j in range(2,23):\n",
    "    num = len([i for i in zeros if j in i])\n",
    "    print([j, num])"
   ]
  },
  {
   "cell_type": "code",
   "execution_count": null,
   "id": "c34c97fa",
   "metadata": {},
   "outputs": [],
   "source": [
    "for j in range(2,23):\n",
    "    num = len([i for i in zeros if j in i or 24-j in i])\n",
    "    print([j, num])"
   ]
  },
  {
   "cell_type": "code",
   "execution_count": null,
   "id": "3e8eece2",
   "metadata": {},
   "outputs": [],
   "source": [
    "jumps = [1, 3, 8]\n",
    "check_cliques(23, jumps, 3, 7)"
   ]
  },
  {
   "cell_type": "code",
   "execution_count": null,
   "id": "17493914",
   "metadata": {},
   "outputs": [],
   "source": [
    "find_cliques_and_cocliques(23, jumps, 3, 7)"
   ]
  },
  {
   "cell_type": "code",
   "execution_count": null,
   "id": "f6515cb9",
   "metadata": {},
   "outputs": [],
   "source": []
  }
 ],
 "metadata": {
  "kernelspec": {
   "display_name": "Python 3 (ipykernel)",
   "language": "python",
   "name": "python3"
  },
  "language_info": {
   "codemirror_mode": {
    "name": "ipython",
    "version": 3
   },
   "file_extension": ".py",
   "mimetype": "text/x-python",
   "name": "python",
   "nbconvert_exporter": "python",
   "pygments_lexer": "ipython3",
   "version": "3.11.3"
  }
 },
 "nbformat": 4,
 "nbformat_minor": 5
}
