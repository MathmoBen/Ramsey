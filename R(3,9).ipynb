{
 "cells": [
  {
   "cell_type": "markdown",
   "id": "d75f8d32",
   "metadata": {},
   "source": [
    "# R(3,9)"
   ]
  },
  {
   "cell_type": "markdown",
   "id": "639f1203",
   "metadata": {},
   "source": [
    "We investigate how close circulant graphs on 35 vertices come to the unique Ramsey critical graph for this Ramsey number."
   ]
  },
  {
   "cell_type": "code",
   "execution_count": 2,
   "id": "1514b05c",
   "metadata": {},
   "outputs": [],
   "source": [
    "# An important import\n",
    "\n",
    "import itertools"
   ]
  },
  {
   "cell_type": "code",
   "execution_count": 3,
   "id": "e606c867",
   "metadata": {},
   "outputs": [],
   "source": [
    "# Function to check if a given input circulant graph has a particular clique size\n",
    "\n",
    "def is_clique(graph: set, vertices: list) -> bool:\n",
    "    \"\"\"\n",
    "    Check if the given vertices form a clique in the graph.\n",
    "    \"\"\"\n",
    "    for i in range(len(vertices)):\n",
    "        for j in range(i+1, len(vertices)):\n",
    "            if vertices[j] not in graph[vertices[i]]:\n",
    "                return False\n",
    "    return True"
   ]
  },
  {
   "cell_type": "code",
   "execution_count": 4,
   "id": "b014ad80",
   "metadata": {},
   "outputs": [],
   "source": [
    "# Function that given a certain list of jumps constructs a circulat graph of that kind\n",
    "\n",
    "def create_circulant_graph(n: int, jumps: list) -> set:\n",
    "    \"\"\"\n",
    "    Create a circulant graph with n vertices and given jumps.\n",
    "    \"\"\"\n",
    "    graph = {i: set() for i in range(n)}\n",
    "    for i in range(n):\n",
    "        for jump in jumps:\n",
    "            graph[i].add((i + jump) % n)\n",
    "            graph[i].add((i - jump) % n)\n",
    "    return graph"
   ]
  },
  {
   "cell_type": "code",
   "execution_count": 5,
   "id": "271ec7d2",
   "metadata": {},
   "outputs": [],
   "source": [
    "# A graph that creates the complement of a given circulant graph\n",
    "\n",
    "def create_complement_graph(n: int, original_graph: set) -> set:\n",
    "    \"\"\"\n",
    "    Create the complement of the given graph.\n",
    "    \"\"\"\n",
    "    complement = {i: set(range(n)) - {i} - original_graph[i] for i in range(n)}\n",
    "    return complement"
   ]
  },
  {
   "cell_type": "code",
   "execution_count": 6,
   "id": "fe679393",
   "metadata": {},
   "outputs": [],
   "source": [
    "# Function that checks if a given circulant graph has a clique of a given size\n",
    "\n",
    "def has_clique(graph: set, k: int) -> bool:\n",
    "    \"\"\"\n",
    "    Check if the graph has a clique of size k.\n",
    "    \"\"\"\n",
    "    for combo in itertools.combinations(range(len(graph)), k):\n",
    "        if is_clique(graph, combo):\n",
    "            return True\n",
    "    return False"
   ]
  },
  {
   "cell_type": "code",
   "execution_count": 7,
   "id": "ff471e38",
   "metadata": {},
   "outputs": [],
   "source": [
    "# Finally, the main function pulling all of the above together\n",
    "\n",
    "def check_cliques(n: int, jumps: list, k1: int, k2: int) ->tuple:\n",
    "    \"\"\"\n",
    "    Check if a circulant graph has a clique of size k1 and its complement has a clique of size k2.\n",
    "    \n",
    "    :param n: Number of vertices in the graph\n",
    "    :param jumps: List of jumps that define the circulant graph\n",
    "    :param k1: Size of the clique to search for in the original graph\n",
    "    :param k2: Size of the clique to search for in the complement graph\n",
    "    :return: Tuple (bool, bool) indicating presence of cliques in original and complement graphs\n",
    "    \"\"\"\n",
    "    original_graph = create_circulant_graph(n, jumps)\n",
    "    complement_graph = create_complement_graph(n, original_graph)\n",
    "    \n",
    "    clique_in_original = has_clique(original_graph, k1)\n",
    "    clique_in_complement = has_clique(complement_graph, k2)\n",
    "    \n",
    "    return clique_in_original, clique_in_complement"
   ]
  },
  {
   "cell_type": "markdown",
   "id": "3b615274",
   "metadata": {},
   "source": [
    "Early attempts at examples."
   ]
  },
  {
   "cell_type": "code",
   "execution_count": 9,
   "id": "ea2dce57",
   "metadata": {},
   "outputs": [
    {
     "name": "stdout",
     "output_type": "stream",
     "text": [
      "[3, False, True]\n",
      "[4, False, True]\n",
      "[5, False, True]\n",
      "[6, False, True]\n",
      "[7, False, True]\n",
      "[8, False, True]\n",
      "[9, False, True]\n",
      "[10, False, True]\n",
      "[11, False, True]\n",
      "[12, False, True]\n",
      "[13, False, True]\n",
      "[14, False, True]\n",
      "[15, False, True]\n",
      "[16, False, True]\n",
      "[17, True, True]\n"
     ]
    }
   ],
   "source": [
    "\"\"\"\n",
    "n=35\n",
    "jumps = [1, 4]\n",
    "k1 = 3\n",
    "k2 = 4\n",
    "\n",
    "original_result, complement_result = check_cliques(n, jumps, k1, k2)\n",
    "\n",
    "print(f\"Circulant graph C({n}, {jumps}):\")\n",
    "print(f\"  Has a clique of size {k1}: {original_result}\")\n",
    "print(f\"  Its complement has a clique of size {k2}: {complement_result}\")\n",
    "\"\"\"\n",
    "\n",
    "n = 35\n",
    "for i in range(3,18):\n",
    "    jumps = [1,i]\n",
    "    original_result, complement_result = check_cliques(n, jumps, 3, 9)\n",
    "    print([i,original_result, complement_result])\n"
   ]
  },
  {
   "cell_type": "code",
   "execution_count": 12,
   "id": "5b57ecd8",
   "metadata": {},
   "outputs": [],
   "source": [
    "# Two jumps instead\n",
    "\n",
    "n = 35\n",
    "for i in range(3,16):\n",
    "    for j in range(i+2,18):\n",
    "        jumps = [1,i,j]\n",
    "        original_result, complement_result = check_cliques(n, jumps, 3, 9)\n",
    "        if (original_result, complement_result) == (False, False):\n",
    "            print([i,j])"
   ]
  },
  {
   "cell_type": "code",
   "execution_count": 8,
   "id": "19b33e48",
   "metadata": {},
   "outputs": [
    {
     "name": "stdout",
     "output_type": "stream",
     "text": [
      "[7, 11, 16]\n"
     ]
    }
   ],
   "source": [
    "# Three jumps instead\n",
    "\n",
    "n = 35\n",
    "for i in range(3,14):\n",
    "    for j in range(i+2,16):\n",
    "        for k in range(j+2,18):\n",
    "            jumps = [1,i,j,k]\n",
    "            original_result, complement_result = check_cliques(n, jumps, 3, 9)\n",
    "            if (original_result, complement_result) == (False, False):\n",
    "                print([i,j,k])"
   ]
  },
  {
   "cell_type": "code",
   "execution_count": null,
   "id": "7c3b8d39",
   "metadata": {},
   "outputs": [],
   "source": []
  }
 ],
 "metadata": {
  "kernelspec": {
   "display_name": "Python 3 (ipykernel)",
   "language": "python",
   "name": "python3"
  },
  "language_info": {
   "codemirror_mode": {
    "name": "ipython",
    "version": 3
   },
   "file_extension": ".py",
   "mimetype": "text/x-python",
   "name": "python",
   "nbconvert_exporter": "python",
   "pygments_lexer": "ipython3",
   "version": "3.11.3"
  }
 },
 "nbformat": 4,
 "nbformat_minor": 5
}
